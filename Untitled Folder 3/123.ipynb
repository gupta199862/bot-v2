{
 "cells": [
  {
   "cell_type": "code",
   "execution_count": null,
   "metadata": {
    "scrolled": true
   },
   "outputs": [],
   "source": [
    "# LSTM for international airline passengers problem with time step regression framing\n",
    "import json\n",
    "import numpy as np \n",
    "import matplotlib.pyplot as plt\n",
    "#from pandas import read_csv\n",
    "import math\n",
    "from keras.models import Sequential\n",
    "from keras.layers import Dense\n",
    "from keras.layers import LSTM\n",
    "from sklearn.preprocessing import MinMaxScaler\n",
    "from sklearn.metrics import mean_squared_error\n",
    "from IPython.core.debugger import Tracer\n",
    "from keras.layers import Input, Dense ,RepeatVector ,TimeDistributed , Activation ,Flatten\n",
    "from keras.models import Model\n",
    "from keras.layers import TimeDistributed\n",
    "import keras\n",
    "# convert an array of values into a dataset matrix\n",
    "\n",
    "# fix random seed for reproducibility\n",
    "np.random.seed(5)\n",
    "# load the dataset\n",
    "json_data = []\n",
    "with open(\"USDT-BTC_Market_Boot_support_Trading_Data.txt\") as file :\n",
    "    for line in file:\n",
    "        json_data.append(json.loads(line))\n",
    "# convert an array of values into a dataset matrix\n",
    "MarketHistory_Price=[]\n",
    "MarketHistory_Quantity=[]\n",
    "MarketHistory_FillType_Z = [] #ZERO encodecd\n",
    "MarketHistory_OrderType_Z = []\n",
    "OrderBook_buy_Quantity = []\n",
    "OrderBook_buy_Rate = []\n",
    "OrderBook_sell_Quantity = []\n",
    "OrderBook_sell_Rate = []\n",
    "Tick_Ask = []\n",
    "Tick_Bid = []\n",
    "Tick_Last = []\n",
    "x= 0  \n",
    "xx=0 \n",
    "depth = 100 \n",
    "for i in range(len(json_data)):\n",
    "   \n",
    "    if ( (json_data[i]!= []or None) and\n",
    "         (json_data[i]['Tick'] != []or None ) and         \n",
    "         (json_data[i]['OrderBook'] != [] or None) and\n",
    "         (json_data[i]['MarketHistory'] != [] or None) and\n",
    "         (json_data[i]['Tick'] ['result'] !=  None ) and\n",
    "         (json_data[i]['OrderBook']['result'] !=  None )and\n",
    "         (json_data[i]['MarketHistory']['result'] !=  None) and\n",
    "         (json_data[i]['MarketHistory']['result'] != [] or None) and\n",
    "         (json_data[i]['OrderBook']['result']['buy'] != []or None )and\n",
    "         (json_data[i]['OrderBook']['result']['sell']!= [] or None)and\n",
    "         (json_data[i]['Tick'] ['result'] != [] or  None) and\n",
    "         (json_data[i]['Tick'] ['result'] ['Ask'] !=  [] or  None  ) and\n",
    "         (json_data[i]['Tick'] ['result'] ['Bid'] != [] or None ) and\n",
    "         (json_data[i]['Tick'] ['result'] ['Last']!= [] or None) \n",
    "       ):\n",
    "      \n",
    "        Tick_Ask.append(json_data[i]['Tick'] ['result'] ['Ask'])\n",
    "        Tick_Bid.append(json_data[i]['Tick'] ['result'] ['Bid'])\n",
    "        Tick_Last.append(json_data[i]['Tick'] ['result'] ['Last'])\n",
    "        \n",
    "  \n",
    "        for m in range(len((json_data[1]['OrderBook']['result']['buy']))) :   \n",
    "            OrderBook_buy_Quantity.append(json_data[i]['OrderBook']['result']['buy'][m]['Quantity'])\n",
    "            OrderBook_buy_Rate.append(json_data[i]['OrderBook']['result']['buy'][m]['Rate'])\n",
    "            #xx=xx+1\n",
    "            #print(\"dedata 1 no{}\".format(xx))\n",
    "\n",
    "\n",
    "        for m in range(len((json_data[1]['OrderBook']['result']['sell']))) :\n",
    "                OrderBook_sell_Quantity.append(json_data[i]['OrderBook']['result']['sell'][m]['Quantity'])\n",
    "                OrderBook_sell_Rate.append(json_data[i]['OrderBook']['result']['sell'][m]['Rate']) \n",
    "\n",
    "\n",
    "        for m in range(len((json_data[1]['MarketHistory']['result']))) :                                                                            \n",
    "                MarketHistory_Price.append(json_data[i]['MarketHistory']['result'][m]['Price'])\n",
    "                MarketHistory_Quantity.append(json_data[i]['MarketHistory']['result'][m]['Quantity'])\n",
    "                                              \n",
    "                if (json_data[i]['MarketHistory']['result'][m]['FillType']) == 'PARTIAL_FILL' :\n",
    "                    MarketHistory_FillType_Z.append(0)\n",
    "                elif (json_data[i]['MarketHistory']['result'][m]['FillType']) == 'FILL' :\n",
    "                    MarketHistory_FillType_Z.append(1)\n",
    "                if (json_data[i]['MarketHistory']['result'][m]['OrderType']) == 'BUY' :\n",
    "                    MarketHistory_OrderType_Z.append(0)\n",
    "                elif (json_data[i]['MarketHistory']['result'][m]['OrderType']) == 'SELL' :\n",
    "                    MarketHistory_OrderType_Z.append(1)\n",
    "\n",
    "\n",
    "#MarketHistory_Price       = MarketHistory_Price [::-1]\n",
    "#MarketHistory_Quantity    = MarketHistory_Quantity [::-1]\n",
    "#MarketHistory_FillType_Z  = MarketHistory_FillType_Z [::-1]\n",
    "#MarketHistory_OrderType_Z = MarketHistory_OrderType_Z [::-1]\n",
    "#OrderBook_buy_Quantity    = OrderBook_buy_Quantity [::-1]\n",
    "#OrderBook_buy_Rate        = OrderBook_buy_Rate [::-1]\n",
    "#OrderBook_sell_Quantity   = OrderBook_sell_Quantity [::-1]\n",
    "#OrderBook_sell_Rate       = OrderBook_sell_Rate [::-1]                 \n",
    "#Tick_Ask                  = Tick_Ask [::-1]\n",
    "#Tick_Bid                  = Tick_Bid [::-1]\n",
    "#Tick_Last                 = Tick_Last [::-1]                \n",
    "                    \n",
    "                    \n",
    "                    \n",
    "                    \n",
    "                    \n",
    "                    \n",
    "MarketHistory_Price=np.reshape(MarketHistory_Price, (depth,int(len(MarketHistory_Price)/depth)))\n",
    "MarketHistory_Quantity=np.reshape(MarketHistory_Quantity, (depth,int(len(MarketHistory_Quantity)/depth)))\n",
    "MarketHistory_FillType_Z=np.reshape(MarketHistory_FillType_Z, (depth,int(len(MarketHistory_FillType_Z)/depth)))\n",
    "MarketHistory_OrderType_Z=np.reshape(MarketHistory_OrderType_Z, (depth,int(len(MarketHistory_OrderType_Z)/depth)))\n",
    "OrderBook_buy_Quantity=np.reshape(OrderBook_buy_Quantity, (depth,int(len(OrderBook_buy_Quantity)/depth)))\n",
    "OrderBook_buy_Rate=np.reshape(OrderBook_buy_Rate, (depth,int(len(OrderBook_buy_Rate)/depth)))\n",
    "OrderBook_sell_Quantity=np.reshape(OrderBook_sell_Quantity, (depth,int(len(OrderBook_sell_Quantity)/depth)))\n",
    "OrderBook_sell_Rate=np.reshape(OrderBook_sell_Rate, (depth,int(len(OrderBook_sell_Rate)/depth)))\n",
    "Tick_Ask =np.reshape(Tick_Ask ,(1,len(Tick_Ask)))\n",
    "Tick_Bid =np.reshape(Tick_Bid ,(1,len(Tick_Bid)))\n",
    "Tick_Last=np.reshape(Tick_Last ,(1,len(Tick_Last)))\n",
    "\n",
    "\n",
    "\n",
    "Traning_Input = np.concatenate((\n",
    "                   MarketHistory_Price,\n",
    "                   MarketHistory_Quantity,\n",
    "                   MarketHistory_FillType_Z,\n",
    "                   MarketHistory_OrderType_Z,\n",
    "                   OrderBook_buy_Quantity,\n",
    "                   OrderBook_buy_Rate,\n",
    "                   OrderBook_sell_Quantity,\n",
    "                   OrderBook_sell_Rate\n",
    "                  ))\n",
    "Traning_Output = np.concatenate((\n",
    "                   Tick_Ask,\n",
    "                   Tick_Bid,\n",
    "                   Tick_Last\n",
    "                  ))\n",
    "\n",
    "\n",
    "\n",
    "# split input into train and test sets\n",
    "train_size = int((Traning_Input.shape[1]) * .7)\n",
    "test_size = Traning_Input.shape[1] - train_size\n",
    "traininput, testinput = Traning_Input[:,0:train_size], Traning_Input[:,train_size:]\n",
    "# split output into train and test sets\n",
    "trainoutput , testoutput = Traning_Output[:,0:train_size], Traning_Output[:,train_size:]\n",
    "\n",
    "\n",
    "traininput1 = traininput[:,:(len(traininput[1][:])-2)]\n",
    "testinput1  = testinput[:,:(len(testinput[1][:])-2)]\n",
    "trainoutput1 = trainoutput[:,2:]\n",
    "testoutput1  = testoutput[:,2:]\n",
    "\n",
    "\n",
    "\n",
    "#traininput1  = traininput[:,2:]\n",
    "#testinput1   = testinput[:,2:]\n",
    "#trainoutput1 = trainoutput\n",
    "#testoutput1  = testoutput\n",
    "\n",
    "\n",
    "\n",
    "# normalize the dataset\n",
    "\n",
    "scalertraininput = MinMaxScaler(feature_range=(0, 1))\n",
    "Traning_Input_Normalized =scalertraininput.fit_transform(traininput1)\n",
    "\n",
    "scalertestinput = MinMaxScaler(feature_range=(0, 1))\n",
    "Test_Input_Normalized =scalertestinput.fit_transform(testinput1)\n",
    "\n",
    "scalertrainoutput = MinMaxScaler(feature_range=(0, 1))\n",
    "Traning_Output_Normalized =scalertrainoutput.fit_transform(trainoutput1)\n",
    "                  \n",
    "scalertestoutput = MinMaxScaler(feature_range=(0, 1))\n",
    "Test_Output_Normalized =scalertestoutput.fit_transform(testoutput1)\n",
    "\n",
    "\n",
    "\n",
    "traininputM = np.reshape(Traning_Input_Normalized, (Traning_Input_Normalized.shape[1],1, Traning_Input_Normalized.shape[0]))\n",
    "testinputM = np.reshape(Test_Input_Normalized, (Test_Input_Normalized.shape[1],1, Test_Input_Normalized.shape[0]))\n",
    "trainoutputM = np.reshape(Traning_Output_Normalized, (Traning_Output_Normalized.shape[1], Traning_Output_Normalized.shape[0]))\n",
    "testoutputM = np.reshape(Test_Output_Normalized, (Test_Output_Normalized.shape[1], Test_Output_Normalized.shape[0]))\n",
    "\n",
    "\n",
    "\n",
    "\n",
    "#This returns a tensor\n",
    "#inputs = Input(shape=(1,depth*8))\n",
    "\n",
    "# a layer instance is callable on a tensor, and returns a tensor\n",
    "#x = LSTM(500, input_shape=(500,depth*8),return_sequences=True,dropout_W=0.3)(inputs)\n",
    "#x = LSTM(600,return_sequences=True,dropout_W=0.5)(x)\n",
    "#x = Dense(800)(x)\n",
    "#x = Dense(100)(x)\n",
    "#predictions = Dense(3)(x)\n",
    "\n",
    "\n",
    "inputs = Input(shape=(1,depth*8))\n",
    "\n",
    "# a layer instance is callable on a tensor, and returns a tensor\n",
    "x = LSTM(depth*8, input_shape=(100,depth*8),return_sequences=False,dropout_W=0.2)(inputs)\n",
    "x = RepeatVector(2)(x)\n",
    "x = LSTM(800,return_sequences=True ,dropout_W=0.3)(x)\n",
    "x = TimeDistributed(Dense(800))(x)\n",
    "x = TimeDistributed(Dense(100))(x)\n",
    "x = Flatten()(x)\n",
    "predictions = Dense(3)(x)\n",
    "\n",
    "\n",
    "#hidden_neurons =3\n",
    "#model = Sequential()  \n",
    "#model.add(LSTM(input_dim=800, output_dim=hidden_neurons, return_sequences=False))  \n",
    "#model.add(RepeatVector(2))\n",
    "#model.add(LSTM(output_dim=hidden_neurons, return_sequences=True))  \n",
    "#model.add(TimeDistributed(Dense(3)))\n",
    "#model.add(Activation('linear'))   \n",
    "\n",
    "#model.compile(loss='mean_squared_error', optimizer='rmsprop', metrics=['accuracy'])  \n",
    "#model = Sequential()  \n",
    "#model.add(LSTM(depth*8 , input_shape=(1,depth*8), return_sequences=False,dropout_W=0.2))  \n",
    "#model.add(RepeatVector(5))\n",
    "#model.add(LSTM(output_dim=hidden_neurons, return_sequences=True,dropout_W=0.1))  \n",
    "#model.add(TimeDistributed(Dense(3)))\n",
    "#model.add(Activation('linear'))   \n",
    "#model.compile(loss='mean_squared_error', optimizer='rmsprop', metrics=['accuracy'])  \n",
    "\n",
    "# This creates a model that includes\n",
    "# the Input layer and three Dense layers\n",
    "model = Model(inputs=inputs, outputs=predictions)\n",
    "\n",
    "model.compile(optimizer='adam',\n",
    "              loss='mean_squared_error',\n",
    "              metrics=['accuracy'])\n",
    "\n",
    "\n",
    "model.summary()\n",
    "\n"
   ]
  },
  {
   "cell_type": "code",
   "execution_count": null,
   "metadata": {},
   "outputs": [],
   "source": [
    "model.fit(traininputM, trainoutputM , batch_size=2000, epochs=100, verbose=1 ,  validation_data=(testinputM, testoutputM ))"
   ]
  },
  {
   "cell_type": "code",
   "execution_count": null,
   "metadata": {},
   "outputs": [],
   "source": [
    "score , acc = model.evaluate(testinputM, testoutputM,batch_size=500)"
   ]
  },
  {
   "cell_type": "code",
   "execution_count": null,
   "metadata": {},
   "outputs": [],
   "source": [
    "score"
   ]
  },
  {
   "cell_type": "code",
   "execution_count": null,
   "metadata": {},
   "outputs": [],
   "source": [
    "acc"
   ]
  },
  {
   "cell_type": "code",
   "execution_count": null,
   "metadata": {},
   "outputs": [],
   "source": [
    "trainPredict = model.predict(traininputM)\n"
   ]
  },
  {
   "cell_type": "code",
   "execution_count": null,
   "metadata": {},
   "outputs": [],
   "source": [
    "traininputM.shape"
   ]
  },
  {
   "cell_type": "code",
   "execution_count": null,
   "metadata": {},
   "outputs": [],
   "source": [
    "mmm=traininputM[0:50,0,:]"
   ]
  },
  {
   "cell_type": "code",
   "execution_count": null,
   "metadata": {},
   "outputs": [],
   "source": [
    "mmm.shape"
   ]
  },
  {
   "cell_type": "code",
   "execution_count": null,
   "metadata": {},
   "outputs": [],
   "source": [
    "mmm=np.reshape(mmm,(mmm.shape[0],1,mmm.shape[1]))"
   ]
  },
  {
   "cell_type": "code",
   "execution_count": null,
   "metadata": {},
   "outputs": [],
   "source": [
    "xx=model.predict(mmm)"
   ]
  },
  {
   "cell_type": "code",
   "execution_count": null,
   "metadata": {},
   "outputs": [],
   "source": [
    "xx.shape"
   ]
  },
  {
   "cell_type": "code",
   "execution_count": null,
   "metadata": {},
   "outputs": [],
   "source": [
    "score"
   ]
  },
  {
   "cell_type": "code",
   "execution_count": null,
   "metadata": {},
   "outputs": [],
   "source": [
    "acc"
   ]
  },
  {
   "cell_type": "code",
   "execution_count": null,
   "metadata": {},
   "outputs": [],
   "source": [
    "trainPredict.shape"
   ]
  },
  {
   "cell_type": "code",
   "execution_count": null,
   "metadata": {},
   "outputs": [],
   "source": [
    "trainPredict = model.predict(traininputM)\n",
    "testPredict= model.predict(testinputM)"
   ]
  },
  {
   "cell_type": "code",
   "execution_count": null,
   "metadata": {},
   "outputs": [],
   "source": [
    "trainPredict = np.reshape(trainPredict, (trainPredict.shape[1], trainPredict.shape[0]))\n",
    "testPredict = np.reshape(testPredict, (testPredict.shape[1], testPredict.shape[0]))\n",
    "trainoutputM = np.reshape(trainoutputM, (trainoutputM.shape[1], trainoutputM.shape[0]))\n",
    "testoutputM = np.reshape(testoutputM, (testoutputM.shape[1], testoutputM.shape[0]))\n",
    "\n",
    "trainPredict=scalertrainoutput.inverse_transform(trainPredict)\n",
    "testPredict=scalertestoutput.inverse_transform(testPredict)\n",
    "trainoutputM=scalertrainoutput.inverse_transform(trainoutputM)\n",
    "testoutputM=scalertestoutput.inverse_transform(testoutputM)"
   ]
  },
  {
   "cell_type": "code",
   "execution_count": null,
   "metadata": {},
   "outputs": [],
   "source": [
    "from bokeh.io import output_notebook, show\n",
    "from bokeh.plotting import figure\n",
    "\n",
    "# set up some data\n",
    "#x1 = Traning_Output1[:,]\n",
    "x2 = trainPredict[1,:]\n",
    "x5 = testPredict [1,:]\n",
    "x6 = testoutputM [1,:]\n",
    "x3 = Traning_Output[1,:]\n",
    "x4 = trainoutput[2,:]\n",
    "#y1 = range(len(x1 ))\n",
    "y2 = range(2,len(x2 ),1)\n",
    "y3 = range(0,len(x3 ),1)\n",
    "y4 = range(0,len(x4 ),1)\n",
    "y5 = range(0,len(x6 ),1)\n",
    "y6 = range(0,len(x6 ),1)\n",
    "\n",
    "#x5 = x5[5:]\n",
    "\n",
    "# create a new plot with figure\n",
    "p = figure(plot_width=800, plot_height=400)\n",
    "\n",
    "# add both a line and circles on the same plot\n",
    "#p.line(y4, x4, line_width=2,line_color=\"firebrick\")\n",
    "p.line(y2, x2, line_width=1)\n",
    "p.line(y3, x3, line_width=1 , line_color=\"red\")\n",
    "#p.circle(y5,x5, size=2, line_color=\"red\", fill_color=\"orange\", fill_alpha=0.5)\n",
    "#p.circle(y6,x6, size=2, line_color=\"navy\", fill_color=\"orange\", fill_alpha=0.5)\n",
    "\n",
    "#p.line(y4, x4, line_width=2,line_color=\"orange\")\n",
    "\n",
    "#p.circle(y3,x3, size=10, line_color=\"navy\", fill_color=\"orange\", fill_alpha=0.5)\n",
    "\n",
    "#p.circle(x, z, fill_color=\"white\", size=8)\n",
    "\n",
    "show(p) # show the results"
   ]
  },
  {
   "cell_type": "code",
   "execution_count": 1,
   "metadata": {},
   "outputs": [
    {
     "ename": "NameError",
     "evalue": "name 'model' is not defined",
     "output_type": "error",
     "traceback": [
      "\u001b[0;31m---------------------------------------------------------------------------\u001b[0m",
      "\u001b[0;31mNameError\u001b[0m                                 Traceback (most recent call last)",
      "\u001b[0;32m<ipython-input-1-1f9398fa3011>\u001b[0m in \u001b[0;36m<module>\u001b[0;34m()\u001b[0m\n\u001b[0;32m----> 1\u001b[0;31m \u001b[0mmodel\u001b[0m\u001b[0;34m.\u001b[0m\u001b[0msave\u001b[0m\u001b[0;34m(\u001b[0m\u001b[0;34m'pridic4test2.h5'\u001b[0m\u001b[0;34m)\u001b[0m\u001b[0;34m\u001b[0m\u001b[0m\n\u001b[0m",
      "\u001b[0;31mNameError\u001b[0m: name 'model' is not defined"
     ]
    }
   ],
   "source": [
    "model.save('pridic4test2.h5')"
   ]
  },
  {
   "cell_type": "code",
   "execution_count": null,
   "metadata": {},
   "outputs": [],
   "source": []
  }
 ],
 "metadata": {
  "kernelspec": {
   "display_name": "Python 2",
   "language": "python",
   "name": "python2"
  },
  "language_info": {
   "codemirror_mode": {
    "name": "ipython",
    "version": 3
   },
   "file_extension": ".py",
   "mimetype": "text/x-python",
   "name": "python",
   "nbconvert_exporter": "python",
   "pygments_lexer": "ipython3",
   "version": "3.5.2"
  }
 },
 "nbformat": 4,
 "nbformat_minor": 2
}
