{
 "cells": [
  {
   "cell_type": "code",
   "execution_count": null,
   "metadata": {},
   "outputs": [],
   "source": [
    "import json\n",
    "import math\n",
    "import numpy as np\n",
    "from bokeh.io import output_notebook, show\n",
    "from bokeh.plotting import figure\n",
    "import numpy as np\n",
    "from bokeh.layouts import row, column, gridplot\n",
    "from bokeh.models import ColumnDataSource, Slider, Select\n",
    "from bokeh.plotting import curdoc, figure\n",
    "from bokeh.driving import count\n",
    "\n",
    "\n",
    "BUFSIZE = 200\n",
    "\n",
    "source = ColumnDataSource(dict(\n",
    "    time=[], cp0=[] ,cp1=[] ,cp2=[] , p2m0=[] , p2m1=[] , p2m2=[]\n",
    "))\n",
    "\n",
    "\n",
    "\n",
    "def get_plot_data():\n",
    "    json_data = []\n",
    "    with open(\"USDT-BTC_Market_predictions1.txt\") as file :\n",
    "        for line in file:\n",
    "            json_data=json.loads(line)\n",
    "        \n",
    "    EVAL_mat_array=np.array(json_data)        \n",
    "        \n",
    "    curnt_price  = EVAL_mat_array[:,0:3]\n",
    "    predict2min  = EVAL_mat_array[:,3:6]\n",
    "    #predict10min = EVAL_mat_array[:,6:9]\n",
    "    #predict30min = EVAL_mat_array[:,9:12]\n",
    "\n",
    "    # set up some data\n",
    "    cp0 = curnt_price[:,0]\n",
    "    cp1 = curnt_price[:,1]\n",
    "    cp2 = curnt_price[:,2]\n",
    "    #cp2 =  cp2[5:]\n",
    "\n",
    "    p2m0 = predict2min[:,0]\n",
    "    p2m1 = predict2min[:,1]\n",
    "    p2m2 = predict2min[:,2]\n",
    "    #p2m0 = p2m0[1:]\n",
    "    #p2m1 = p2m1[1:]\n",
    "    #p2m2 = p2m2[1:]\n",
    "\n",
    "    #p10m0 = predict10min[:,0]\n",
    "    #p10m1 = predict10min[:,1]\n",
    "    #p10m2 = predict10min[:,2]\n",
    "    #p10m0 = p10m0[5:]\n",
    "    #p10m1 = p10m1[5:]\n",
    "    #p10m2 = p10m2[5:]\n",
    "\n",
    "    #p30m0 = predict30min[:,0]\n",
    "    #p30m1 = predict30min[:,1]\n",
    "    #p30m2 = predict30min[:,2]\n",
    "    #p30m0 = p30m0[15:]\n",
    "    #p30m1 = p30m1[15:]\n",
    "    #p30m2 = p30m2[15:]\n",
    "\n",
    "\n",
    "    #yc = range(200)\n",
    "    #yp = range(0,200,1)\n",
    "    return cp0,p2m0,cp1,p2m1,cp2,p2m2\n",
    "\n",
    "     \n",
    "#create a new plot with figure\n",
    "\n",
    "p = figure(plot_height=500, tools=\"xpan,xwheel_zoom,xbox_zoom,reset\", x_axis_type=None, y_axis_location=\"right\")\n",
    "p.x_range.follow = \"end\"\n",
    "p.x_range.follow_interval = 100\n",
    "p.x_range.range_padding = 0#add both a line and circles on the same plot\n",
    "#p.line(y4, x4, line_width=2,line_color=\"firebrick\")\n",
    "p.line(y='time' , 'cp2', line_width=1 ,source=source)\n",
    "p.line(y='time' , 'p10m2', line_width=1 , line_color=\"red\" , source=source)\n",
    "#p.circle(y,cp2, size=2, line_color=\"red\", fill_color=\"orange\", fill_alpha=0.5)\n",
    "#p.circle(y2,p2m2, size=2, line_color=\"navy\", fill_color=\"orange\", fill_alpha=0.5)\n",
    "#p.line(y4, x4, line_width=2,line_color=\"orange\")\n",
    "#p.circle(y3,x3, size=10, line_color=\"navy\", fill_color=\"orange\", fill_alpha=0.5)\n",
    "#p.circle(x, z, fill_color=\"white\", size=8)\n",
    "#show(p) # show the results\n",
    "\n",
    "\n",
    "\n",
    "\n",
    "\n",
    "@count()\n",
    "def update(t):\n",
    "    cp0,p2m0,cp1,p2m1,cp2,p2m2= get_plot_data()\n",
    "\n",
    "    new_data = dict(\n",
    "        time=[t],\n",
    "        cp0=[cp0],\n",
    "        p2m0=[p2m0],\n",
    "        cp1=[cp1],\n",
    "        p2m1=[p2m1],\n",
    "        cp2=[cp2],\n",
    "        p2m2=[p2m2]\n",
    "    )\n",
    "    source.stream(new_data, 300)\n",
    "\n",
    "curdoc().add_periodic_callback(update, 1000*120)\n",
    "curdoc().title = \"prediction\"\n",
    "\n",
    "\n",
    "\n"
   ]
  },
  {
   "cell_type": "code",
   "execution_count": null,
   "metadata": {},
   "outputs": [],
   "source": [
    "x=0\n",
    "for i in range(len(cp2)):\n",
    "    x = x+((abs(float(p10m2[i])-float(cp2[i]))/float(cp2[i])))\n",
    "print((x/len(cp2))*100)"
   ]
  },
  {
   "cell_type": "code",
   "execution_count": null,
   "metadata": {},
   "outputs": [],
   "source": [
    "# set up some data\n",
    "#x1 = Traning_Output1[:,]\n",
    "cp0 = curnt_price[:,0]\n",
    "cp1 = curnt_price[:,1]\n",
    "cp2 = curnt_price[:,2]\n",
    "#cp2 =  cp2[5:]\n",
    "\n",
    "p2m0 = predict2min[:,0]\n",
    "p2m1 = predict2min[:,1]\n",
    "p2m2 = predict2min[:,2]\n",
    "#p2m0 = p2m0[1:]\n",
    "#p2m1 = p2m1[1:]\n",
    "#p2m2 = p2m2[1:]\n",
    "\n",
    "#p10m0 = predict10min[:,0]\n",
    "#p10m1 = predict10min[:,1]\n",
    "#p10m2 = predict10min[:,2]\n",
    "#p10m0 = p10m0[5:]\n",
    "#p10m1 = p10m1[5:]\n",
    "#p10m2 = p10m2[5:]\n",
    "\n",
    "#p30m0 = predict30min[:,0]\n",
    "#p30m1 = predict30min[:,1]\n",
    "#p30m2 = predict30min[:,2]\n",
    "#p30m0 = p30m0[15:]\n",
    "#p30m1 = p30m1[15:]\n",
    "#p30m2 = p30m2[15:]\n",
    "\n",
    "\n",
    "yc = range(200)\n",
    "yp = range(0,200,1)\n",
    "\n",
    "for i in range(1):\n",
    "\n",
    "# create a new plot with figure\n",
    "    p = figure(plot_width=800, plot_height=400)\n",
    "\n",
    "# add both a line and circles on the same plot\n",
    "#p.line(y4, x4, line_width=2,line_color=\"firebrick\")\n",
    "    p.line(yc, cp2, line_width=1)\n",
    "    p.line(yc, p2m2, line_width=1 , line_color=\"red\")\n",
    "#p.circle(y,cp2, size=2, line_color=\"red\", fill_color=\"orange\", fill_alpha=0.5)\n",
    "#p.circle(y2,p2m2, size=2, line_color=\"navy\", fill_color=\"orange\", fill_alpha=0.5)\n",
    "\n",
    "#p.line(y4, x4, line_width=2,line_color=\"orange\")\n",
    "\n",
    "#p.circle(y3,x3, size=10, line_color=\"navy\", fill_color=\"orange\", fill_alpha=0.5)\n",
    "\n",
    "#p.circle(x, z, fill_color=\"white\", size=8)\n",
    "\n",
    "show(p) # show the results"
   ]
  },
  {
   "cell_type": "code",
   "execution_count": null,
   "metadata": {},
   "outputs": [],
   "source": [
    "len(curnt_price[:,0])"
   ]
  },
  {
   "cell_type": "code",
   "execution_count": null,
   "metadata": {},
   "outputs": [],
   "source": [
    "n =5 \n",
    "x =7\n",
    "print(\"---{}---{}\".format(n,x))"
   ]
  },
  {
   "cell_type": "code",
   "execution_count": null,
   "metadata": {},
   "outputs": [],
   "source": [
    "curnt_price[0,:]"
   ]
  },
  {
   "cell_type": "code",
   "execution_count": null,
   "metadata": {},
   "outputs": [],
   "source": [
    "EVAL_mat_array[30]"
   ]
  },
  {
   "cell_type": "code",
   "execution_count": null,
   "metadata": {},
   "outputs": [],
   "source": [
    "\n",
    "EVAL_mat_array"
   ]
  },
  {
   "cell_type": "code",
   "execution_count": null,
   "metadata": {},
   "outputs": [],
   "source": [
    "cp0"
   ]
  },
  {
   "cell_type": "code",
   "execution_count": null,
   "metadata": {},
   "outputs": [],
   "source": [
    "cp0[1:]"
   ]
  },
  {
   "cell_type": "code",
   "execution_count": null,
   "metadata": {},
   "outputs": [],
   "source": [
    "curnt_price"
   ]
  },
  {
   "cell_type": "code",
   "execution_count": null,
   "metadata": {},
   "outputs": [],
   "source": [
    "import json\n",
    "import math\n",
    "import numpy as np\n",
    "from bokeh.io import output_notebook, show\n",
    "from bokeh.plotting import figure\n",
    "import numpy as np\n",
    "from bokeh.layouts import row, column, gridplot\n",
    "from bokeh.models import ColumnDataSource, Slider, Select\n",
    "from bokeh.plotting import curdoc, figure\n",
    "from bokeh.driving import count\n",
    "\n",
    "\n",
    "json_data = []\n",
    "with open(\"USDT-BTC_Market_predictions.txt\") as file :\n",
    "    for line in file:\n",
    "        json_data.append(json.loads(line))\n",
    "        \n",
    "EVAL_mat_array=np.array(json_data)        \n",
    "        \n",
    "curnt_price  = EVAL_mat_array[:,0:3]\n",
    "predict2min  = EVAL_mat_array[:,3:6]\n",
    "#predict10min = EVAL_mat_array[:,6:9]\n",
    "#predict30min = EVAL_mat_array[:,9:12]\n"
   ]
  },
  {
   "cell_type": "code",
   "execution_count": null,
   "metadata": {},
   "outputs": [],
   "source": [
    "file"
   ]
  },
  {
   "cell_type": "code",
   "execution_count": null,
   "metadata": {},
   "outputs": [],
   "source": [
    "json_data"
   ]
  },
  {
   "cell_type": "code",
   "execution_count": null,
   "metadata": {},
   "outputs": [],
   "source": []
  }
 ],
 "metadata": {
  "kernelspec": {
   "display_name": "Python 3",
   "language": "python",
   "name": "python3"
  },
  "language_info": {
   "codemirror_mode": {
    "name": "ipython",
    "version": 3
   },
   "file_extension": ".py",
   "mimetype": "text/x-python",
   "name": "python",
   "nbconvert_exporter": "python",
   "pygments_lexer": "ipython3",
   "version": "3.5.2"
  }
 },
 "nbformat": 4,
 "nbformat_minor": 2
}
